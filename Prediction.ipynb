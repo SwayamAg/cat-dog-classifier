{
 "cells": [
  {
   "cell_type": "markdown",
   "id": "ce75c2dd",
   "metadata": {},
   "source": [
    "## LOADING LIBs"
   ]
  },
  {
   "cell_type": "code",
   "execution_count": 18,
   "id": "8f0c07e6",
   "metadata": {},
   "outputs": [],
   "source": [
    "import os   \n",
    "import numpy as np\n",
    "import tensorflow as tf\n",
    "from tensorflow import keras\n",
    "from keras.models import load_model\n",
    "from keras.preprocessing import image   "
   ]
  },
  {
   "cell_type": "markdown",
   "id": "77e6cea4",
   "metadata": {},
   "source": [
    "## Load the model\n"
   ]
  },
  {
   "cell_type": "code",
   "execution_count": 19,
   "id": "a41ca3db",
   "metadata": {},
   "outputs": [
    {
     "name": "stdout",
     "output_type": "stream",
     "text": [
      "Model loaded successfully.\n"
     ]
    }
   ],
   "source": [
    "loaded_model = keras.models.load_model('cat_dog_cnn_model.h5')\n",
    "print(\"Model loaded successfully.\")"
   ]
  },
  {
   "cell_type": "markdown",
   "id": "bd3ceed0",
   "metadata": {},
   "source": [
    "## Predicting on a new image"
   ]
  },
  {
   "cell_type": "code",
   "execution_count": 20,
   "id": "efcd8232",
   "metadata": {},
   "outputs": [],
   "source": [
    "import numpy as np\n",
    "from keras.preprocessing import image\n",
    "def load_and_preprocess_image(img_path):\n",
    "    img = image.load_img(img_path, target_size=(224, 224))\n",
    "    img_array = image.img_to_array(img)\n",
    "    img_array = np.expand_dims(img_array, axis=0)  # Add batch dimension\n",
    "    img_array = img_array / 255.0  # Normalize\n",
    "    return img_array\n"
   ]
  },
  {
   "cell_type": "markdown",
   "id": "7951f56e",
   "metadata": {},
   "source": [
    "## PREDICTING "
   ]
  },
  {
   "cell_type": "code",
   "execution_count": 23,
   "id": "99ed3e9a",
   "metadata": {},
   "outputs": [
    {
     "name": "stdout",
     "output_type": "stream",
     "text": [
      "1/1 [==============================] - 0s 21ms/step\n",
      "Predicted class for the image: Dog\n"
     ]
    }
   ],
   "source": [
    "predict_image_path = 'download.jpg'  \n",
    "# predict_image_path = 'download (1).jpg'\n",
    "img_array = load_and_preprocess_image(predict_image_path)\n",
    "predictions = loaded_model.predict(img_array)   \n",
    "predicted_class = 'Dog' if predictions[0][0] > 0.5 else 'Cat'\n",
    "print(f\"Predicted class for the image: {predicted_class}\")"
   ]
  }
 ],
 "metadata": {
  "kernelspec": {
   "display_name": ".venv",
   "language": "python",
   "name": "python3"
  },
  "language_info": {
   "codemirror_mode": {
    "name": "ipython",
    "version": 3
   },
   "file_extension": ".py",
   "mimetype": "text/x-python",
   "name": "python",
   "nbconvert_exporter": "python",
   "pygments_lexer": "ipython3",
   "version": "3.9.5"
  }
 },
 "nbformat": 4,
 "nbformat_minor": 5
}
